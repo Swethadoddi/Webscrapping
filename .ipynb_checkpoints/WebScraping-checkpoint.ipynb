{
 "cells": [
  {
   "cell_type": "code",
   "execution_count": 21,
   "metadata": {},
   "outputs": [
    {
     "name": "stdout",
     "output_type": "stream",
     "text": [
      "Collecting autoscraper\n",
      "  Downloading autoscraper-1.1.14-py3-none-any.whl (10 kB)\n",
      "Collecting bs4\n",
      "  Downloading bs4-0.0.1.tar.gz (1.1 kB)\n",
      "Requirement already satisfied: requests in c:\\users\\sweth\\anaconda3\\lib\\site-packages (from autoscraper) (2.24.0)\n",
      "Requirement already satisfied: lxml in c:\\users\\sweth\\anaconda3\\lib\\site-packages (from autoscraper) (4.6.1)\n",
      "Requirement already satisfied: beautifulsoup4 in c:\\users\\sweth\\anaconda3\\lib\\site-packages (from bs4->autoscraper) (4.9.3)\n",
      "Requirement already satisfied: idna<3,>=2.5 in c:\\users\\sweth\\anaconda3\\lib\\site-packages (from requests->autoscraper) (2.10)\n",
      "Requirement already satisfied: certifi>=2017.4.17 in c:\\users\\sweth\\anaconda3\\lib\\site-packages (from requests->autoscraper) (2020.6.20)\n",
      "Requirement already satisfied: urllib3!=1.25.0,!=1.25.1,<1.26,>=1.21.1 in c:\\users\\sweth\\anaconda3\\lib\\site-packages (from requests->autoscraper) (1.25.11)\n",
      "Requirement already satisfied: chardet<4,>=3.0.2 in c:\\users\\sweth\\anaconda3\\lib\\site-packages (from requests->autoscraper) (3.0.4)\n",
      "Requirement already satisfied: soupsieve>1.2; python_version >= \"3.0\" in c:\\users\\sweth\\anaconda3\\lib\\site-packages (from beautifulsoup4->bs4->autoscraper) (2.0.1)\n",
      "Building wheels for collected packages: bs4\n",
      "  Building wheel for bs4 (setup.py): started\n",
      "  Building wheel for bs4 (setup.py): finished with status 'done'\n",
      "  Created wheel for bs4: filename=bs4-0.0.1-py3-none-any.whl size=1277 sha256=473676a7f47e0f871c2cb696d2d47b5437c110d9c9e6d55219f60e6710dd132e\n",
      "  Stored in directory: c:\\users\\sweth\\appdata\\local\\pip\\cache\\wheels\\75\\78\\21\\68b124549c9bdc94f822c02fb9aa3578a669843f9767776bca\n",
      "Successfully built bs4\n",
      "Installing collected packages: bs4, autoscraper\n",
      "Successfully installed autoscraper-1.1.14 bs4-0.0.1\n"
     ]
    }
   ],
   "source": [
    "!pip install autoscraper"
   ]
  },
  {
   "cell_type": "raw",
   "metadata": {},
   "source": []
  },
  {
   "cell_type": "code",
   "execution_count": 25,
   "metadata": {},
   "outputs": [],
   "source": [
    "from autoscraper import AutoScrape="
   ]
  },
  {
   "cell_type": "code",
   "execution_count": 40,
   "metadata": {},
   "outputs": [],
   "source": [
    "url = \"https://www.walmart.com/search?q=Iphone13+pro+mobiles\"\n",
    "\n",
    "Wanted_list = [\"$899.00\",\"Ultra Mobile Samsung Galaxy A03s, 32GB, Black + Free 30 day 10GB High-Speed Data Plan\"]"
   ]
  },
  {
   "cell_type": "code",
   "execution_count": 41,
   "metadata": {},
   "outputs": [
    {
     "name": "stdout",
     "output_type": "stream",
     "text": [
      "['From $49.98', '$79.99', 'Save with', '$899.00', 'Now $899.00', '$719.99', '$1,149.97', '$999.99', '$999.00', '$894.97', 'Ghostek Nautical iPhone 13 Pro Max Waterproof Holster Case for Apple iPhone 13 13Pro 13mini (Black)', 'Ultra Mobile Samsung Galaxy A03s, 32GB, Black + Free 30 day 10GB High-Speed Data Plan', 'Walmart Family Mobile Apple iPhone 13 Pro, 128GB, Graphite- Prepaid Smartphone [Locked to Carrier- Walmart Family Mobile]', 'Total by Verizon Apple iPhone 13 Pro, 128GB, Sierra Blue - Prepaid Smartphone [Locked to Total by Verizon]', 'Straight Talk Apple iPhone 13 Pro, 128GB, Blue- Prepaid Smartphone [Locked to Carrier- Straight Talk]', 'Like New Apple iPhone 13 Pro 5G Sierra Blue 128GB T-Mobile Only Grade A', 'Open Box Apple iPhone 13 Pro Max 128GB 256GB 512GB 1024GB All Colors - Factory Unlocked Cell Phones', 'iPhone 13 Pro Max Unlocked (CDMA + GSM) 256GB Graphite', 'Total by Verizon Apple iPhone 13 Pro Max, 128GB, Sierra Blue - Prepaid Smartphone [Locked to Total by Verizon]', 'Restored Apple iPhone 13 Pro Sierra Blue (Boost Mobile) (Refurbished)']\n"
     ]
    }
   ],
   "source": [
    "scraper=AutoScraper()\n",
    "result=scraper.build(url, Wanted_list)\n",
    "print(result)"
   ]
  },
  {
   "cell_type": "code",
   "execution_count": 42,
   "metadata": {},
   "outputs": [
    {
     "data": {
      "text/plain": [
       "{'rule_0lrd': ['From $49.98',\n",
       "  '$79.99',\n",
       "  'Save with',\n",
       "  '$899.00',\n",
       "  'Now $899.00',\n",
       "  'Save with',\n",
       "  'Now $899.00',\n",
       "  'Save with',\n",
       "  '$719.99',\n",
       "  '$1,149.97',\n",
       "  '$999.99',\n",
       "  '$999.00',\n",
       "  'Save with',\n",
       "  '$894.97'],\n",
       " 'rule_fug5': ['Ghostek Nautical iPhone 13 Pro Max Waterproof Holster Case for Apple iPhone 13 13Pro 13mini (Black)',\n",
       "  'Ultra Mobile Samsung Galaxy A03s, 32GB, Black + Free 30 day 10GB High-Speed Data Plan',\n",
       "  'Walmart Family Mobile Apple iPhone 13 Pro, 128GB, Graphite- Prepaid Smartphone [Locked to Carrier- Walmart Family Mobile]',\n",
       "  'Total by Verizon Apple iPhone 13 Pro, 128GB, Sierra Blue - Prepaid Smartphone [Locked to Total by Verizon]',\n",
       "  'Straight Talk Apple iPhone 13 Pro, 128GB, Blue- Prepaid Smartphone [Locked to Carrier- Straight Talk]',\n",
       "  'Like New Apple iPhone 13 Pro 5G Sierra Blue 128GB T-Mobile Only Grade A',\n",
       "  'Open Box Apple iPhone 13 Pro Max 128GB 256GB 512GB 1024GB All Colors - Factory Unlocked Cell Phones',\n",
       "  'iPhone 13 Pro Max Unlocked (CDMA + GSM) 256GB Graphite',\n",
       "  'Total by Verizon Apple iPhone 13 Pro Max, 128GB, Sierra Blue - Prepaid Smartphone [Locked to Total by Verizon]',\n",
       "  'Restored Apple iPhone 13 Pro Sierra Blue (Boost Mobile) (Refurbished)'],\n",
       " 'rule_dsgq': ['Ghostek Nautical iPhone 13 Pro Max Waterproof Holster Case for Apple iPhone 13 13Pro 13mini (Black)',\n",
       "  'Ultra Mobile Samsung Galaxy A03s, 32GB, Black + Free 30 day 10GB High-Speed Data Plan',\n",
       "  'Walmart Family Mobile Apple iPhone 13 Pro, 128GB, Graphite- Prepaid Smartphone [Locked to Carrier- Walmart Family Mobile]',\n",
       "  'Total by Verizon Apple iPhone 13 Pro, 128GB, Sierra Blue - Prepaid Smartphone [Locked to Total by Verizon]',\n",
       "  'Straight Talk Apple iPhone 13 Pro, 128GB, Blue- Prepaid Smartphone [Locked to Carrier- Straight Talk]',\n",
       "  'Like New Apple iPhone 13 Pro 5G Sierra Blue 128GB T-Mobile Only Grade A',\n",
       "  'Open Box Apple iPhone 13 Pro Max 128GB 256GB 512GB 1024GB All Colors - Factory Unlocked Cell Phones',\n",
       "  'iPhone 13 Pro Max Unlocked (CDMA + GSM) 256GB Graphite',\n",
       "  'Total by Verizon Apple iPhone 13 Pro Max, 128GB, Sierra Blue - Prepaid Smartphone [Locked to Total by Verizon]',\n",
       "  'Restored Apple iPhone 13 Pro Sierra Blue (Boost Mobile) (Refurbished)'],\n",
       " 'rule_xil0': ['Ghostek Nautical iPhone 13 Pro Max Waterproof Holster Case for Apple iPhone 13 13Pro 13mini (Black)',\n",
       "  'Ultra Mobile Samsung Galaxy A03s, 32GB, Black + Free 30 day 10GB High-Speed Data Plan',\n",
       "  'Walmart Family Mobile Apple iPhone 13 Pro, 128GB, Graphite- Prepaid Smartphone [Locked to Carrier- Walmart Family Mobile]',\n",
       "  'Total by Verizon Apple iPhone 13 Pro, 128GB, Sierra Blue - Prepaid Smartphone [Locked to Total by Verizon]',\n",
       "  'Straight Talk Apple iPhone 13 Pro, 128GB, Blue- Prepaid Smartphone [Locked to Carrier- Straight Talk]',\n",
       "  'Like New Apple iPhone 13 Pro 5G Sierra Blue 128GB T-Mobile Only Grade A',\n",
       "  'Open Box Apple iPhone 13 Pro Max 128GB 256GB 512GB 1024GB All Colors - Factory Unlocked Cell Phones',\n",
       "  'iPhone 13 Pro Max Unlocked (CDMA + GSM) 256GB Graphite',\n",
       "  'Total by Verizon Apple iPhone 13 Pro Max, 128GB, Sierra Blue - Prepaid Smartphone [Locked to Total by Verizon]',\n",
       "  'Restored Apple iPhone 13 Pro Sierra Blue (Boost Mobile) (Refurbished)']}"
      ]
     },
     "execution_count": 42,
     "metadata": {},
     "output_type": "execute_result"
    }
   ],
   "source": [
    "scraper.get_result_similar(url, grouped=True)"
   ]
  },
  {
   "cell_type": "code",
   "execution_count": 43,
   "metadata": {},
   "outputs": [],
   "source": [
    "scraper.set_rule_aliases({'rule_fug5':'Title','rule_0lrd':'Price'})\n",
    "scraper.keep_rules(['rule_fug5','rule_0lrd'])\n",
    "scraper.save('walmart-search')"
   ]
  },
  {
   "cell_type": "code",
   "execution_count": 44,
   "metadata": {},
   "outputs": [
    {
     "data": {
      "text/plain": [
       "{'rule_0lrd': ['$0.44',\n",
       "  'Save with',\n",
       "  '$3.48',\n",
       "  'Save with',\n",
       "  '$2.48',\n",
       "  'Save with',\n",
       "  '$1.50',\n",
       "  'Save with',\n",
       "  '$0.88',\n",
       "  'Save with',\n",
       "  '$2.48',\n",
       "  'Save with',\n",
       "  '$0.88',\n",
       "  'Save with',\n",
       "  '$1.24',\n",
       "  'Save with',\n",
       "  '$4.98',\n",
       "  'Save with',\n",
       "  '$2.98',\n",
       "  'Save with'],\n",
       " 'rule_fug5': ['Fresh Roma Tomato, Each',\n",
       "  'Sunset Sugar Bombs - 12oz.',\n",
       "  'Grape Tomato, 10 oz Package',\n",
       "  'Slicing Tomato, 3 Pack',\n",
       "  'Great Value Diced Tomatoes In Tomato Juice, 14.5 Oz',\n",
       "  'Slicing Tomato, 1 lb Tray',\n",
       "  'Great Value Petite Diced Tomatoes in Tomato Juice, 14.5 Oz',\n",
       "  'Rotel Original Diced Tomatoes and Green Chilies, 10 oz.',\n",
       "  'Premium Grape Tomato, 1 lb Package',\n",
       "  'Medley Tomato, 10 oz Package']}"
      ]
     },
     "execution_count": 44,
     "metadata": {},
     "output_type": "execute_result"
    }
   ],
   "source": [
    "scraper.get_result_similar(\"https://www.walmart.com/search?q=tomatoes\", grouped=True)"
   ]
  },
  {
   "cell_type": "code",
   "execution_count": 45,
   "metadata": {},
   "outputs": [],
   "source": [
    "from autoscraper import AutoScraper\n",
    "import pandas as pd"
   ]
  },
  {
   "cell_type": "code",
   "execution_count": 46,
   "metadata": {},
   "outputs": [
    {
     "data": {
      "text/plain": [
       "['https://books.toscrape.com/catalogue/its-only-the-himalayas_981/index.html',\n",
       " 'https://books.toscrape.com/catalogue/full-moon-over-noahs-ark-an-odyssey-to-mount-ararat-and-beyond_811/index.html',\n",
       " 'https://books.toscrape.com/catalogue/see-america-a-celebration-of-our-national-parks-treasured-sites_732/index.html',\n",
       " 'https://books.toscrape.com/catalogue/vagabonding-an-uncommon-guide-to-the-art-of-long-term-world-travel_552/index.html',\n",
       " 'https://books.toscrape.com/catalogue/under-the-tuscan-sun_504/index.html',\n",
       " 'https://books.toscrape.com/catalogue/a-summer-in-europe_458/index.html',\n",
       " 'https://books.toscrape.com/catalogue/the-great-railway-bazaar_446/index.html',\n",
       " 'https://books.toscrape.com/catalogue/a-year-in-provence-provence-1_421/index.html',\n",
       " 'https://books.toscrape.com/catalogue/the-road-to-little-dribbling-adventures-of-an-american-in-britain-notes-from-a-small-island-2_277/index.html',\n",
       " 'https://books.toscrape.com/catalogue/neither-here-nor-there-travels-in-europe_198/index.html',\n",
       " 'https://books.toscrape.com/catalogue/1000-places-to-see-before-you-die_1/index.html']"
      ]
     },
     "execution_count": 46,
     "metadata": {},
     "output_type": "execute_result"
    }
   ],
   "source": [
    " \n",
    "#BooksUrlScraper section\n",
    "TravelCategoryLink = 'https://books.toscrape.com/catalogue/category/books/travel_2/index.html'\n",
    "WantedList=[\"https://books.toscrape.com/catalogue/its-only-the-himalayas_981/index.html\"]\n",
    "BooksUrlScraper = AutoScraper()\n",
    "BooksUrlScraper.build(TravelCategoryLink, wanted_list=WantedList)"
   ]
  },
  {
   "cell_type": "code",
   "execution_count": 47,
   "metadata": {},
   "outputs": [],
   "source": [
    "#BookInfoScraper section\n",
    "BookPageUrl = \"https://books.toscrape.com/catalogue/its-only-the-himalayas_981/index.html\" \n",
    "WantedList=[\"It's Only the Himalayas\", \"£45.17\"]"
   ]
  },
  {
   "cell_type": "code",
   "execution_count": 48,
   "metadata": {},
   "outputs": [
    {
     "data": {
      "text/plain": [
       "[\"It's Only the Himalayas\",\n",
       " 'a22124811bfa8350',\n",
       " 'Books',\n",
       " '£45.17',\n",
       " '£0.00',\n",
       " 'In stock (19 available)',\n",
       " '0']"
      ]
     },
     "execution_count": 48,
     "metadata": {},
     "output_type": "execute_result"
    }
   ],
   "source": [
    "BookInfoScraper = AutoScraper()\n",
    "BookInfoScraper.build(BookPageUrl, wanted_list=WantedList)"
   ]
  },
  {
   "cell_type": "code",
   "execution_count": 51,
   "metadata": {},
   "outputs": [],
   "source": [
    "#Scraping info of each book and storing into an excel file\n",
    "BooksUrlList = BooksUrlScraper.get_result_similar(TravelCategoryLink) \n",
    "BooksInfoList = []\n",
    "for Url in BooksUrlList:\n",
    "  book_info= BookInfoScraper.get_result_exact(Url)\n",
    "  BooksInfoList.append(book_info)\n",
    "df = pd.DataFrame(BooksInfoList, columns =[\"Book Title\", \"Price\"])\n",
    "df.to_excel(\"BooksInTravelCategory.xlsx\")"
   ]
  },
  {
   "cell_type": "code",
   "execution_count": null,
   "metadata": {},
   "outputs": [],
   "source": []
  }
 ],
 "metadata": {
  "kernelspec": {
   "display_name": "Python 3",
   "language": "python",
   "name": "python3"
  },
  "language_info": {
   "codemirror_mode": {
    "name": "ipython",
    "version": 3
   },
   "file_extension": ".py",
   "mimetype": "text/x-python",
   "name": "python",
   "nbconvert_exporter": "python",
   "pygments_lexer": "ipython3",
   "version": "3.8.5"
  }
 },
 "nbformat": 4,
 "nbformat_minor": 4
}
