{
 "cells": [
  {
   "cell_type": "code",
   "execution_count": 10,
   "metadata": {},
   "outputs": [],
   "source": [
    "from autoscraper import AutoScraper\n",
    "import pandas as pd"
   ]
  },
  {
   "cell_type": "code",
   "execution_count": 12,
   "metadata": {},
   "outputs": [
    {
     "data": {
      "text/plain": [
       "['https://books.toscrape.com/catalogue/birdsong-a-story-in-pictures_975/index.html',\n",
       " 'https://books.toscrape.com/catalogue/the-bear-and-the-piano_967/index.html',\n",
       " 'https://books.toscrape.com/catalogue/the-secret-of-dreadwillow-carse_944/index.html',\n",
       " 'https://books.toscrape.com/catalogue/the-white-cat-and-the-monk-a-retelling-of-the-poem-pangur-ban_865/index.html',\n",
       " 'https://books.toscrape.com/catalogue/little-red_817/index.html',\n",
       " 'https://books.toscrape.com/catalogue/walt-disneys-alice-in-wonderland_777/index.html',\n",
       " 'https://books.toscrape.com/catalogue/twenty-yawns_773/index.html',\n",
       " 'https://books.toscrape.com/catalogue/rain-fish_728/index.html',\n",
       " 'https://books.toscrape.com/catalogue/once-was-a-time_724/index.html',\n",
       " 'https://books.toscrape.com/catalogue/luis-paints-the-world_714/index.html',\n",
       " 'https://books.toscrape.com/catalogue/nap-a-roo_567/index.html',\n",
       " 'https://books.toscrape.com/catalogue/the-whale_501/index.html',\n",
       " 'https://books.toscrape.com/catalogue/shrunken-treasures-literary-classics-short-sweet-and-silly_484/index.html',\n",
       " 'https://books.toscrape.com/catalogue/raymie-nightingale_482/index.html',\n",
       " 'https://books.toscrape.com/catalogue/playing-from-the-heart_481/index.html',\n",
       " 'https://books.toscrape.com/catalogue/maybe-something-beautiful-how-art-transformed-a-neighborhood_386/index.html',\n",
       " 'https://books.toscrape.com/catalogue/the-wild-robot_288/index.html',\n",
       " 'https://books.toscrape.com/catalogue/the-thing-about-jellyfish_283/index.html',\n",
       " 'https://books.toscrape.com/catalogue/the-lonely-ones_261/index.html',\n",
       " 'https://books.toscrape.com/catalogue/the-day-the-crayons-came-home-crayons_241/index.html']"
      ]
     },
     "execution_count": 12,
     "metadata": {},
     "output_type": "execute_result"
    }
   ],
   "source": [
    "Booksurl = 'https://books.toscrape.com/catalogue/category/books/childrens_11/index.html'\n",
    "wantedlist = [\"https://books.toscrape.com/catalogue/birdsong-a-story-in-pictures_975/index.html\"]\n",
    "\n",
    "BooksUrlScraper = AutoScraper()\n",
    "BooksUrlScraper.build(Booksurl, wantedlist)"
   ]
  },
  {
   "cell_type": "code",
   "execution_count": 13,
   "metadata": {},
   "outputs": [],
   "source": [
    "#BookInfoScraper section\n",
    "BookPageUrl = \"https://books.toscrape.com/catalogue/birdsong-a-story-in-pictures_975/index.html\"\n",
    "Wanted_List=[\"Birdsong: A Story in Pictures\", \"£54.64\"]"
   ]
  },
  {
   "cell_type": "code",
   "execution_count": 14,
   "metadata": {},
   "outputs": [
    {
     "data": {
      "text/plain": [
       "['Birdsong: A Story in Pictures',\n",
       " '9528d0948525bf5f',\n",
       " 'Books',\n",
       " '£54.64',\n",
       " '£0.00',\n",
       " 'In stock (19 available)',\n",
       " '0']"
      ]
     },
     "execution_count": 14,
     "metadata": {},
     "output_type": "execute_result"
    }
   ],
   "source": [
    "BookInfoScraper = AutoScraper()\n",
    "BookInfoScraper.build(BookPageUrl, wanted_list=Wanted_List)"
   ]
  },
  {
   "cell_type": "code",
   "execution_count": 15,
   "metadata": {},
   "outputs": [],
   "source": [
    "#Scraping info of each book and storing into an excel file\n",
    "BooksUrlList = BooksUrlScraper.get_result_similar(Booksurl) \n",
    "BooksInfoList = []\n",
    "for Url in BooksUrlList:\n",
    "  book_info= BookInfoScraper.get_result_exact(Url)\n",
    "  BooksInfoList.append(book_info)\n",
    "df = pd.DataFrame(BooksInfoList, columns =[\"Book Title\", \"Price\"])\n",
    "df.to_excel(\"BooksInChildren.xlsx\")"
   ]
  },
  {
   "cell_type": "code",
   "execution_count": null,
   "metadata": {},
   "outputs": [],
   "source": []
  }
 ],
 "metadata": {
  "kernelspec": {
   "display_name": "Python 3",
   "language": "python",
   "name": "python3"
  },
  "language_info": {
   "codemirror_mode": {
    "name": "ipython",
    "version": 3
   },
   "file_extension": ".py",
   "mimetype": "text/x-python",
   "name": "python",
   "nbconvert_exporter": "python",
   "pygments_lexer": "ipython3",
   "version": "3.8.5"
  }
 },
 "nbformat": 4,
 "nbformat_minor": 4
}
